{
 "cells": [
  {
   "cell_type": "markdown",
   "metadata": {},
   "source": [
    "# Drzewa decyzyjne #\n",
    "\n",
    "Podczas wykonywania ćwiczenia będzie wykorzystywany pakiet scikit-learn (sklearn), którego metody umożliwiają m.in. budowę drzew decyzyjnych na podstawie danych, testowanie drzew oraz przeprowadzanie klasyfikacji."
   ]
  },
  {
   "cell_type": "code",
   "metadata": {
    "jupyter": {
     "is_executing": true
    }
   },
   "source": [
    "from sklearn.datasets import load_iris\n",
    "from sklearn import tree\n",
    "import matplotlib.pyplot as plt\n",
    "iris = load_iris()  #wczytujemy przykladowy zbior danych"
   ],
   "outputs": [],
   "execution_count": null
  },
  {
   "cell_type": "markdown",
   "metadata": {},
   "source": [
    "Tworzymy obiekt dla drzewa.\n",
    "\n",
    "http://scikit-learn.org/stable/modules/generated/sklearn.tree.DecisionTreeClassifier.html"
   ]
  },
  {
   "cell_type": "code",
   "execution_count": null,
   "metadata": {},
   "outputs": [],
   "source": [
    "mytree1 = tree.DecisionTreeClassifier()"
   ]
  },
  {
   "cell_type": "markdown",
   "metadata": {},
   "source": [
    "Uczymy klasyfikator na podstawie danych przykładowego zbioru danych iris (https://scikit-learn.org/stable/auto_examples/datasets/plot_iris_dataset.html)"
   ]
  },
  {
   "cell_type": "code",
   "execution_count": null,
   "metadata": {},
   "outputs": [],
   "source": [
    "mytree1.fit(iris.data, iris.target)"
   ]
  },
  {
   "cell_type": "markdown",
   "metadata": {},
   "source": [
    "Korzystając z metody `get_params` można odczytać parametry konfiguracyjne drzewa."
   ]
  },
  {
   "cell_type": "code",
   "execution_count": null,
   "metadata": {},
   "outputs": [],
   "source": [
    "mytree1.get_params()"
   ]
  },
  {
   "cell_type": "markdown",
   "metadata": {},
   "source": [
    "Klasyfikujemy przykładowy wektor cech."
   ]
  },
  {
   "cell_type": "code",
   "execution_count": null,
   "metadata": {},
   "outputs": [],
   "source": [
    "klasa = mytree1.predict([[2,3,4,5]])\n",
    "print(iris.target_names[klasa])"
   ]
  },
  {
   "cell_type": "markdown",
   "metadata": {},
   "source": [
    "Można też wyznaczyć prawdopodobieństwa przynależności do poszczególnych klas."
   ]
  },
  {
   "cell_type": "code",
   "execution_count": null,
   "metadata": {},
   "outputs": [],
   "source": [
    "mytree1.predict_proba([[2,3,4,5]])"
   ]
  },
  {
   "cell_type": "markdown",
   "metadata": {},
   "source": [
    "# Struktura drzewa\n",
    "\n",
    "Funkcja `plot_tree` umożliwia narysowanie grafu prezentującego skonstruowane drzewo decyzyjne."
   ]
  },
  {
   "cell_type": "code",
   "execution_count": null,
   "metadata": {},
   "outputs": [],
   "source": [
    "plt.figure(figsize=(12,12))\n",
    "tree.plot_tree(mytree1, filled=True, feature_names=iris.feature_names, class_names=iris.target_names, fontsize = 8)\n",
    "plt.show()"
   ]
  },
  {
   "cell_type": "markdown",
   "metadata": {},
   "source": [
    "Struktura drzewa zapisana jest w atrybucie `tree_`. Jest tam informacja o liczbie węzłów oraz tablice, w których dla każdego węzła zapisane są\n",
    "\n",
    "* w przypadku węzłów wewnętrznych: indeks lewego i prawego potomka, indeks wybranego atrybutu i wartość progowa\n",
    "\n",
    "* w przypadku liści: inne wartości, w tym wypadku nia mające znaczenia\n",
    "\n",
    "Przeanalizuj sposób zapisu struktury drzewa mytree1."
   ]
  },
  {
   "cell_type": "code",
   "execution_count": null,
   "metadata": {},
   "outputs": [],
   "source": [
    "print(\"Liczba wezlow: \", mytree1.tree_.node_count)\n",
    "print(\"Indeksy lewych potomkow:\", mytree1.tree_.children_left)\n",
    "print(\"Indeksy prawych potomkow:\",mytree1.tree_.children_right)\n",
    "print(\"Wybrane atrybuty:\", mytree1.tree_.feature)\n",
    "print(\"Wartosci progowe:\", mytree1.tree_.threshold)"
   ]
  },
  {
   "cell_type": "markdown",
   "metadata": {},
   "source": [
    "# Testowanie drzewa\n",
    "**Na podstawie odrębnego zbioru danych** \n",
    "\n",
    "Zbiór danych jest dzielony na dane uczące i testowe (`train_test_split`). Metoda `score` zwraca poprawność klasyfikacji. Korzystając z funkcji `confusion_matrix` można dowiedzieć się dokładnie jakie są wyniki klasyfikacji w zależności od klasy. Funkcja ta zwraca tzw. macierz błędów, której element (i,j) zawiera liczbę przykładów klasy i-tej zaklasyfikowanych do klasy j-tej."
   ]
  },
  {
   "cell_type": "code",
   "execution_count": null,
   "metadata": {},
   "outputs": [],
   "source": [
    "from sklearn.model_selection import train_test_split\n",
    "from sklearn.metrics import confusion_matrix\n",
    "data_train, data_test, target_train, target_test = train_test_split(iris.data, iris.target, test_size=0.4, random_state=0)\n",
    "mytree1.fit(data_train, target_train)\n",
    "print(\"Zaklaasyfikowano poprawnie\", mytree1.score(data_test,target_test), \"przykladow ze ze zbioru testowego.\")\n",
    "confusion_matrix(target_test, mytree1.predict(data_test))"
   ]
  },
  {
   "cell_type": "markdown",
   "metadata": {},
   "source": [
    "**W procesie walidacji krzyżowej** \n",
    "\n",
    "Zbiór danych jest dzielony na k podzbiorów. Uczenie i testowanie odbywa się k razy. W każdej iteracji 1 z k podzbiorów zostaje wykorzystany do testowania a wszystkie pozostałe do uczenia. Wyniki zostają uśrednione (`cross_val_score`). "
   ]
  },
  {
   "cell_type": "code",
   "execution_count": null,
   "metadata": {},
   "outputs": [],
   "source": [
    "from sklearn.model_selection import cross_val_score\n",
    "results = cross_val_score(mytree1, iris.data, iris.target, cv=5)"
   ]
  },
  {
   "cell_type": "markdown",
   "metadata": {},
   "source": [
    "Otrzymujemy wyniki testowania z poszczególnych przebiegów walidacji a także wynik uśredniony wraz z 95%-owym przedziałem ufności. Rzeczywisty wynik mieści się w tym przedziale z prawdopodobieństwem 0,95."
   ]
  },
  {
   "cell_type": "code",
   "execution_count": null,
   "metadata": {},
   "outputs": [],
   "source": [
    "print(\"Poprawosc klasyfikacji w kolejnych iteracjach: \", results)\n",
    "print(\"Poprawnosc klasyfikacji: %0.2f (+/- %0.2f)\" % (results.mean(), results.std() * 2))"
   ]
  },
  {
   "cell_type": "markdown",
   "metadata": {},
   "source": [
    "W wyniku walidacji krzyżowej każdy przykład jeden raz trafia do zbioru testowego. Wyniki predykcji dla poszczególnych przykładów można odczytać korzystając z funkcji `cross_val_predict`. Funkcja ta, podobnie jak `cross_val_score` przeprowadza waidację krzyżową, ale zwraca wyniki klasyfikacji poszczególnych przykładów zamiast poprawności w kolejnych iteracjach."
   ]
  },
  {
   "cell_type": "code",
   "execution_count": null,
   "metadata": {},
   "outputs": [],
   "source": [
    "from sklearn.model_selection import cross_val_predict\n",
    "cross_val_predict(mytree1, iris.data, iris.target, cv=5)"
   ]
  },
  {
   "cell_type": "markdown",
   "metadata": {},
   "source": [
    "**Zadanie 1 (1 pkt.):**\n",
    "\n",
    "Podaj liczbę oraz indeksy przykładów błędnie zaklasyfikowanych podczas 10-krotnej walidacji krzyżowej."
   ]
  },
  {
   "cell_type": "code",
   "execution_count": null,
   "metadata": {},
   "outputs": [],
   "source": []
  },
  {
   "cell_type": "markdown",
   "metadata": {},
   "source": [
    "**Zadanie 2 (0,5 pkt.):**\n",
    "\n",
    "Pzetestuj przeprowadzając 10-krotną walidację krzyżową drzewa różniące się zastosowanym kryterium wyboru atrubutu: przyrost informacji (`criterion = 'entropy'`) lub wskaźnik Gini (`criterion = 'gini'`). Porównaj jakość klasyfikacji w obu przypadkach."
   ]
  },
  {
   "cell_type": "code",
   "execution_count": null,
   "metadata": {},
   "outputs": [],
   "source": []
  },
  {
   "cell_type": "markdown",
   "metadata": {},
   "source": [
    "# Ograniczanie rozmiarów drzewa - kryterium stopu\n",
    "\n",
    "Możemy ograniczyć rozmiar drzewa ustawiając wartość jednego z następujących parametrów:\n",
    "\n",
    "`min_samples_split` - minimalna liczba przykładów wymagana, aby dane w węźle dalej dzielić\n",
    "\n",
    "`min_samples_leaf` - minimalna dopuszczalna liczba przykładów w liściu\n",
    "\n",
    "`max_leaf_nodes` - maksymalna liczba liści\n",
    "\n",
    "`max_depth` - maksymalna głębokość drzewa\n",
    "\n",
    "Poeksperymentuj z drzewem uczonym na podstawie zbioru iris ograniczając jego rozmiary za pomocą powyższych parametrów. Efekt działania obserwuj rysując drzewo."
   ]
  },
  {
   "cell_type": "code",
   "execution_count": null,
   "metadata": {},
   "outputs": [],
   "source": []
  },
  {
   "cell_type": "markdown",
   "metadata": {},
   "source": [
    "**Zadanie 3 (0,5 pkt.):**\n",
    "\n",
    "Zapoznaj się ze zbiorem danych digits:\n",
    "\n",
    "http://archive.ics.uci.edu/ml/datasets/Optical+Recognition+of+Handwritten+Digits\n",
    "\n",
    "Do wczytania danych wykorzystaj funkcję load_digits().\n",
    "\n",
    "Zmodyfikuj drzewo mytree1 tak, aby minimalna liczba przykładów w liściu wynosiła 4. Zmodyfikuj drzewo mytree2 tak, aby nie miało ono więcej niż 5 liści. Porównaj teraz dokładność klasyfikacji obu drzew dla danych ze zbioru uczącego."
   ]
  },
  {
   "cell_type": "code",
   "execution_count": null,
   "metadata": {},
   "outputs": [],
   "source": [
    "from sklearn.datasets import load_digits\n",
    "digits = load_digits()\n"
   ]
  },
  {
   "cell_type": "markdown",
   "metadata": {},
   "source": [
    "**Zadanie 4 (2 pkt):**\n",
    "\n",
    "Dobierz optymalną wartość współczynnika `max_leaf_nodes` dla zbioru `digits`. W tym celu podziel zbiór danych `digits` na dwie części. Korzystając z pierwszego podzbioru przeprowadź walidację krzyżową wielokrotnie dla różnych wartości optymalizowanego współczynnika. Zidentyfikuj wartość optymalną, czyli taką, dla której średni błąd jest najmniejszy (szacowany w procesie walidacji krzyżowej). Po znalezieniu optymalnej wartości parametru naucz drzewo dla znalezionej wartości `max_leaf_nodes`. Tym razem do uczenia wykorzystaj cały pierwszy podzbiór danych. Następnie przetestuj skonstruowane drzewo na danych z drugego podzbioru. Porównaj otrzymane wyniki z wynikami otrzymanymi przed optymalizacją parametru `max_leaf_nodes`. Rozwiązując zadanie wyświetlaj wszystkie pośrednie wyniki (nie tylko końcowe).\n"
   ]
  },
  {
   "cell_type": "code",
   "execution_count": null,
   "metadata": {},
   "outputs": [],
   "source": []
  },
  {
   "cell_type": "markdown",
   "metadata": {},
   "source": [
    "**Zadanie 5 (2 pkt):**\n",
    "\n",
    "Podziel zbiór danych na uczące i testowe w stosunku 2:1. Przeprowadź uczenie i testowanie wielokrotnie zwiększając w kolejnych krokach wartość parametru `max_leaf_nodes`. Narysuj wykres pokazujący zależność błędu klasyfikacji od rozmiarów drzewa. Zależność tę pokaż zarówno dla danych testowych, jak i uczących."
   ]
  },
  {
   "cell_type": "code",
   "execution_count": null,
   "metadata": {},
   "outputs": [],
   "source": []
  },
  {
   "cell_type": "markdown",
   "metadata": {},
   "source": [
    "# Lasy losowe #"
   ]
  },
  {
   "cell_type": "markdown",
   "metadata": {},
   "source": [
    "Zapoznaj się z opisem klasy `RandomForestClassifier`\n",
    "\n",
    "http://scikit-learn.org/stable/modules/generated/sklearn.ensemble.RandomForestClassifier.html"
   ]
  },
  {
   "cell_type": "code",
   "execution_count": null,
   "metadata": {},
   "outputs": [],
   "source": [
    "from sklearn.ensemble import RandomForestClassifier"
   ]
  },
  {
   "cell_type": "markdown",
   "metadata": {},
   "source": [
    "**Zadanie 6 (1,5 pkt.)**\n",
    "\n",
    "Dla zbioru danych digits skonstruuj las losowy zawierający 20 drzew. \n",
    "\n",
    "a) Jaki jest błąd klasyfikacji dla zbioru uczącego?\n",
    "\n",
    "b) Jaki jest błąd klasyfikacji oszacowany w procesie walidacji krzyżowej?\n",
    "\n",
    "c) Która cyfra (klasa) jest najlepiej rozpoznawana a która najsłabiej?\n",
    "\n",
    "d) Jakiego rodzaju błąd jest najczęściej popełniany (która cyfra z którą jest najczęściej mylona)?"
   ]
  },
  {
   "cell_type": "code",
   "execution_count": null,
   "metadata": {},
   "outputs": [],
   "source": []
  },
  {
   "cell_type": "markdown",
   "metadata": {},
   "source": [
    "**Zadanie 7 (1 pkt.)**\n",
    "Dla każdej klasy podaj poprawność klasyfikacji, czyli stosunek poprawnie zaklasyfikowanych przykładów danej klasy do wszystkich przykładów danej klasy. Jest to jeden z parametrów jakości klasyfikatora, tzw. recall. Można w tym celu wykorzystać funkcję `recall_score` lub wyznaczyć odpowiednie wartości samodzielnie korzystając z macierzy błędów (confusion matrix). Wyznacz wartości recall na dwa sposoby."
   ]
  },
  {
   "cell_type": "code",
   "execution_count": null,
   "metadata": {},
   "outputs": [],
   "source": []
  },
  {
   "cell_type": "markdown",
   "metadata": {},
   "source": [
    "**Zadanie 8 (1,5 pkt.)**\n",
    "\n",
    "Wykreśl zależność błędu klasyfikacji lasu losowego od liczby drzew w lesie. Błąd klasyfikacji szacuj w procesie 5-krotnej walidacji krzyżowej."
   ]
  },
  {
   "cell_type": "code",
   "execution_count": null,
   "metadata": {},
   "outputs": [],
   "source": []
  }
 ],
 "metadata": {
  "anaconda-cloud": {},
  "kernelspec": {
   "display_name": "Python 3 (ipykernel)",
   "language": "python",
   "name": "python3"
  },
  "language_info": {
   "codemirror_mode": {
    "name": "ipython",
    "version": 3
   },
   "file_extension": ".py",
   "mimetype": "text/x-python",
   "name": "python",
   "nbconvert_exporter": "python",
   "pygments_lexer": "ipython3",
   "version": "3.8.10"
  }
 },
 "nbformat": 4,
 "nbformat_minor": 2
}
